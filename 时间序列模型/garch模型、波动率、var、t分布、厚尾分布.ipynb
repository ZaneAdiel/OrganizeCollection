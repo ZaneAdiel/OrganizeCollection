{
 "cells": [
  {
   "cell_type": "markdown",
   "id": "e999c69b",
   "metadata": {},
   "source": [
    "##  1.请选择一只股票（基金或指数），利用 GARCH 模型预测波动率"
   ]
  },
  {
   "cell_type": "markdown",
   "id": "42ff3926",
   "metadata": {},
   "source": [
    "GARCH模型的预测方差是具有一定意义的。GARCH模型是一种条件异方差模型，专门用于描述时间序列中方差的异方差性质。因此，GARCH模型可以有效地捕捉到时间序列数据中方差的波动和变化。\n",
    "\n",
    "当我们使用GARCH模型进行预测时，预测的方差可以用来估计未来数据点的波动性或风险水平。这对许多金融和经济领域的问题都是非常重要的，如风险管理、期权定价和投资组合优化等。\n",
    "\n",
    "需要注意的是，GARCH模型的预测方差是基于当前已有数据的统计方法，而无法完全精确地预测未来方差的变动。因此，GARCH模型的预测结果应该被视为对未来波动性的估计，而非精确的预测。"
   ]
  },
  {
   "cell_type": "code",
   "execution_count": 2,
   "id": "0cf23460",
   "metadata": {},
   "outputs": [
    {
     "name": "stdout",
     "output_type": "stream",
     "text": [
      "Iteration:      1,   Func. Count:      6,   Neg. LLF: 5122752233.755303\n",
      "Iteration:      2,   Func. Count:     19,   Neg. LLF: 8969696029456476.0\n",
      "Optimization terminated successfully    (Exit mode 0)\n",
      "            Current function value: -5572.331616787015\n",
      "            Iterations: 3\n",
      "            Function evaluations: 27\n",
      "            Gradient evaluations: 2\n",
      "未来五天的均值预测： h.1    0.000399\n",
      "h.2    0.000399\n",
      "h.3    0.000399\n",
      "h.4    0.000399\n",
      "h.5    0.000399\n",
      "Name: 2023-06-20 00:00:00, dtype: float64\n",
      "未来五天的方差预测： h.1    0.000095\n",
      "h.2    0.000096\n",
      "h.3    0.000097\n",
      "h.4    0.000098\n",
      "h.5    0.000099\n",
      "Name: 2023-06-20 00:00:00, dtype: float64\n"
     ]
    },
    {
     "name": "stderr",
     "output_type": "stream",
     "text": [
      "/Users/apple/opt/anaconda3/lib/python3.8/site-packages/arch/univariate/base.py:310: DataScaleWarning: y is poorly scaled, which may affect convergence of the optimizer when\n",
      "estimating the model parameters. The scale of y is 0.0001455. Parameter\n",
      "estimation work better when this value is between 1 and 1000. The recommended\n",
      "rescaling is 100 * y.\n",
      "\n",
      "This warning can be disabled by either rescaling y before initializing the\n",
      "model or by setting rescale=False.\n",
      "\n",
      "  warnings.warn(\n"
     ]
    }
   ],
   "source": [
    "import pandas as pd\n",
    "from arch import arch_model\n",
    "from arch.__future__ import reindexing\n",
    "\n",
    "# 假设你的数据保存在一个名为 \"data.csv\" 的CSV文件中，第一列为日期，第二列为数据\n",
    "data = pd.read_csv(\"garch预测.csv\", index_col=0, parse_dates=True)\n",
    "\n",
    "# 创建并训练GARCH(1,1)模型\n",
    "model = arch_model(data['收益率'], vol='Garch', p=1, q=1)\n",
    "model_fit = model.fit()\n",
    "\n",
    "# 预测未来的数据\n",
    "forecast = model_fit.forecast(horizon=5)\n",
    "\n",
    "# 输出预测结果\n",
    "next_five_days_mean = forecast.mean.iloc[-1]  # 获取未来5个数据点的均值\n",
    "next_five_days_variance = forecast.variance.iloc[-1]  # 获取未来5个数据点的方差\n",
    "\n",
    "print(\"未来五天的均值预测：\", next_five_days_mean)\n",
    "print(\"未来五天的方差预测：\", next_five_days_variance)"
   ]
  },
  {
   "cell_type": "markdown",
   "id": "e8c886d1",
   "metadata": {},
   "source": [
    "使用arch_model中的forecast()函数来预测未来多个数据点时，每个数据点的均值预测是相同的，因为GARCH模型是一个条件异方差模型，预测的是方差而不是均值。\n",
    "\n",
    "需要预测未来多个数据点的均值，可以使用循环来逐个预测每个数据点。"
   ]
  },
  {
   "cell_type": "markdown",
   "id": "46744c7d",
   "metadata": {},
   "source": [
    "## 2.在收益率满足正态分布假设下，利用预测的波动率动态的计算 VaR(每天计算一次)"
   ]
  },
  {
   "cell_type": "code",
   "execution_count": 28,
   "id": "5a41102c",
   "metadata": {},
   "outputs": [],
   "source": [
    "import numpy as np\n",
    "from scipy.stats import norm\n",
    "\n",
    "# 预测的波动率\n",
    "predicted_volatility = [0.000095,0.000096,0.000097,0.000098,0.000099]  # 这里替换成你的预测波动率\n",
    "predicted_volatility = np.array(predicted_volatility)\n",
    "\n",
    "# 置信水平\n",
    "confidence_level = 0.95  # 这里假设置信水平为95%\n",
    "\n",
    "# 计算VaR\n",
    "z_score = norm.ppf(1 - confidence_level)\n",
    "var = z_score * predicted_volatility\n"
   ]
  },
  {
   "cell_type": "code",
   "execution_count": 29,
   "id": "278ff3e8",
   "metadata": {},
   "outputs": [
    {
     "data": {
      "text/plain": [
       "array([-0.00015626, -0.00015791, -0.00015955, -0.0001612 , -0.00016284])"
      ]
     },
     "execution_count": 29,
     "metadata": {},
     "output_type": "execute_result"
    }
   ],
   "source": [
    "var"
   ]
  },
  {
   "cell_type": "markdown",
   "id": "6f90ebf8",
   "metadata": {},
   "source": [
    "## 3.选择一个适当厚尾分布（例如t-分布，Gumbel 分布)，假设收益率满足此厚尾分布，重复步骤 2"
   ]
  },
  {
   "cell_type": "code",
   "execution_count": 41,
   "id": "a628975e",
   "metadata": {},
   "outputs": [
    {
     "name": "stdout",
     "output_type": "stream",
     "text": [
      "VaR at time step 4: -0.000001\n"
     ]
    }
   ],
   "source": [
    "import numpy as np\n",
    "from scipy.stats import t\n",
    "\n",
    "# 收益率数据\n",
    "returns = np.array([0.000095,0.000096,0.000097,0.000098,0.000099])  # 将[...]替换为你的实际收益率数据\n",
    "\n",
    "# 移动窗口大小\n",
    "window_size = 4  # 设置移动窗口的大小\n",
    "\n",
    "# 置信水平\n",
    "confidence_level = 0.95  # 将置信水平替换为你期望的值\n",
    "\n",
    "# t分布的自由度\n",
    "degrees_of_freedom = 4  # 设置t分布的自由度\n",
    "\n",
    "# 初始化变量\n",
    "var_values = []\n",
    "\n",
    "# 动态计算VaR\n",
    "for i in range(window_size, len(returns)):\n",
    "    # 获取移动窗口内的收益率数据\n",
    "    window_returns = returns[i-window_size:i]\n",
    "    \n",
    "    # 计算窗口内的波动率\n",
    "    volatility = np.std(window_returns, ddof=1)\n",
    "    \n",
    "    # 计算t分布参数\n",
    "    scale = volatility / np.sqrt(window_size)\n",
    "    \n",
    "    # 计算VaR\n",
    "    t_distribution = t(degrees_of_freedom)\n",
    "    t_quantile = t_distribution.ppf(1 - confidence_level)\n",
    "    var = t_quantile * scale\n",
    "    \n",
    "    var_values.append(var)\n",
    "\n",
    "# 输出结果\n",
    "for i, var in enumerate(var_values):\n",
    "    print(f\"VaR at time step {window_size+i}: {var:.6f}\")"
   ]
  },
  {
   "cell_type": "markdown",
   "id": "9b2e08c0",
   "metadata": {},
   "source": [
    "## 4.在同一坐标系中画出股票的损失率（收益率的负值）图形及步骤2和3中的动态的 VaR 图形"
   ]
  },
  {
   "cell_type": "code",
   "execution_count": 9,
   "id": "e014884d",
   "metadata": {},
   "outputs": [],
   "source": [
    "df = pd.read_csv(\"garch预测.csv\")\n",
    "\n",
    "#将原表的时间列变为可以画图形的日期格式\n",
    "import datetime as dt\n",
    "tt = []\n",
    "for i in df[\"时间\"]:\n",
    "    a = dt.datetime.strptime(i,'%Y/%m/%d')\n",
    "    b = dt.datetime.strftime(a,'%Y-%m-%d')\n",
    "    tt.append(b)\n",
    "x = tt\n",
    "\n",
    "\n",
    "data_fuzhi = []\n",
    "for i in df['收益率']:\n",
    "    i = -i\n",
    "    data_fuzhi.append(i)\n",
    "    \n",
    "import math\n",
    "import numpy as np\n",
    "import pandas as pd\n",
    "import matplotlib.pyplot as plt\n",
    "%matplotlib inline\n",
    "\n",
    "dev_x = x\n",
    "dev_y = data_fuzhi\n",
    "\n",
    "\n",
    "plt.subplots(figsize=(16,4))\n",
    "plt.plot(dev_x, dev_y)\n",
    "plt.xlabel(\"time\")\n",
    "plt.ylabel(\"fluctuation ratio\")\n",
    "plt.title(\"Volatility trends over time\")\n",
    "plt.show()"
   ]
  },
  {
   "cell_type": "code",
   "execution_count": 13,
   "id": "cafc54f1",
   "metadata": {},
   "outputs": [
    {
     "data": {
      "image/png": "[encoded data removed]",
      "text/plain": [
       "<Figure size 1152x288 with 1 Axes>"
      ]
     },
     "metadata": {
      "needs_background": "light"
     },
     "output_type": "display_data"
    }
   ],
   "source": []
  },
  {
   "cell_type": "markdown",
   "id": "d6b579d6",
   "metadata": {},
   "source": [
    "整体呈上下波动趋势，个别时间点波动性较大。"
   ]
  },
  {
   "cell_type": "markdown",
   "id": "9cb80204",
   "metadata": {},
   "source": [
    "## 5.统计正态分布及厚尾分布下的VaR穿透率，并做双尾检验。"
   ]
  },
  {
   "cell_type": "code",
   "execution_count": null,
   "id": "1c77c0e2",
   "metadata": {},
   "outputs": [],
   "source": [
    "import numpy as np\n",
    "from scipy.stats import norm, t\n",
    "\n",
    "# 收益率数据\n",
    "returns = np.array([...])  # 将[...]替换为你的实际收益率数据\n",
    "\n",
    "# 置信水平\n",
    "confidence_level = 0.95  # 将置信水平替换为你期望的值\n",
    "\n",
    "# 正态分布下的VaR\n",
    "norm_var = np.percentile(returns, 100 * (1 - confidence_level))\n",
    "\n",
    "# 厚尾分布下的VaR，使用t分布来近似\n",
    "# 计算t分布的自由度\n",
    "degrees_of_freedom = returns.size - 1\n",
    "\n",
    "# 根据t分布计算VaR\n",
    "t_distribution = t(degrees_of_freedom)\n",
    "t_var = t_distribution.ppf(1 - confidence_level, loc=np.mean(returns), scale=np.std(returns, ddof=1))\n",
    "\n",
    "# 计算VaR穿透率\n",
    "normal_failures = returns[returns < norm_var]\n",
    "heavy_tail_failures = returns[returns < t_var]\n",
    "\n",
    "normal_var_coverage = len(normal_failures) / len(returns)\n",
    "heavy_tail_var_coverage = len(heavy_tail_failures) / len(returns)\n",
    "\n",
    "# 双尾检验\n",
    "normal_critical_value = norm.ppf(1 - (1 - confidence_level) / 2)\n",
    "heavy_tail_critical_value = t_distribution.ppf(1 - (1 - confidence_level) / 2)\n",
    "\n",
    "normal_tail_test = np.logical_or(returns < -normal_critical_value, returns > normal_critical_value)\n",
    "heavy_tail_tail_test = np.logical_or(returns < -heavy_tail_critical_value, returns > heavy_tail_critical_value)\n",
    "\n",
    "normal_tail_coverage = len(returns[normal_tail_test]) / len(returns)\n",
    "heavy_tail_tail_coverage = len(returns[heavy_tail_tail_test]) / len(returns)\n",
    "\n",
    "# 输出结果\n",
    "print(\"正态分布下的VaR穿透率：\", normal_var_coverage)\n",
    "print(\"厚尾分布下的VaR穿透率：\", heavy_tail_var_coverage)\n",
    "print(\"正态分布下的双尾检验通过率：\", normal_tail_coverage)\n",
    "print(\"厚尾分布下的双尾检验通过率：\", heavy_tail_tail_coverage)"
   ]
  }
 ],
 "metadata": {
  "kernelspec": {
   "display_name": "Python 3",
   "language": "python",
   "name": "python3"
  },
  "language_info": {
   "codemirror_mode": {
    "name": "ipython",
    "version": 3
   },
   "file_extension": ".py",
   "mimetype": "text/x-python",
   "name": "python",
   "nbconvert_exporter": "python",
   "pygments_lexer": "ipython3",
   "version": "3.8.8"
  }
 },
 "nbformat": 4,
 "nbformat_minor": 5
}
