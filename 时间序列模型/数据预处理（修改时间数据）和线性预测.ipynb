{
 "cells": [
  {
   "cell_type": "code",
   "execution_count": 1,
   "id": "92680680",
   "metadata": {},
   "outputs": [],
   "source": [
    "x = ['2018','2019','2020','2021','2022','2023']"
   ]
  },
  {
   "cell_type": "code",
   "execution_count": 2,
   "id": "3b13b29c",
   "metadata": {},
   "outputs": [],
   "source": [
    "import datetime as dt\n",
    "\n",
    "\n",
    "tt = []\n",
    "for i in x:\n",
    "    a = dt.datetime.strptime(i,'%Y')\n",
    "    b = dt.datetime.strftime(a,'%Y-01-01')\n",
    "    tt.append(b)\n",
    "x = tt"
   ]
  },
  {
   "cell_type": "markdown",
   "id": "fe917cd5",
   "metadata": {},
   "source": [
    "## 线性回归预测未来三年的床垫需求"
   ]
  },
  {
   "cell_type": "code",
   "execution_count": 5,
   "id": "d1cd7683",
   "metadata": {},
   "outputs": [],
   "source": [
    "y = [4144.2,4830.2,5129.4,5355.5,5565.5,6090.4]"
   ]
  },
  {
   "cell_type": "code",
   "execution_count": 6,
   "id": "14779ec1",
   "metadata": {},
   "outputs": [
    {
     "data": {
      "text/plain": [
       "[['2018-01-01', 4144.2],\n",
       " ['2019-01-01', 4830.2],\n",
       " ['2020-01-01', 5129.4],\n",
       " ['2021-01-01', 5355.5],\n",
       " ['2022-01-01', 5565.5],\n",
       " ['2023-01-01', 6090.4]]"
      ]
     },
     "execution_count": 6,
     "metadata": {},
     "output_type": "execute_result"
    }
   ],
   "source": [
    "data = []\n",
    "for i in range(len(x)):\n",
    "    xixi = []\n",
    "    xixi.append(x[i])\n",
    "    xixi.append(y[i])\n",
    "    data.append(list(xixi))\n",
    "data"
   ]
  },
  {
   "cell_type": "code",
   "execution_count": 8,
   "id": "c8cc036d",
   "metadata": {},
   "outputs": [],
   "source": [
    "import numpy as np\n",
    "import pandas as pd\n",
    "from sklearn.model_selection import train_test_split\n",
    "from sklearn.linear_model import LinearRegression\n",
    "from sklearn.metrics import mean_squared_error, r2_score\n",
    "\n",
    "df = pd.DataFrame(data = data, columns=[\"datetime\",\"数据\"])"
   ]
  },
  {
   "cell_type": "code",
   "execution_count": 10,
   "id": "77042708",
   "metadata": {},
   "outputs": [
    {
     "name": "stdout",
     "output_type": "stream",
     "text": [
      "23026.924224349816\n"
     ]
    }
   ],
   "source": [
    "df[\"datetime\"] = pd.to_datetime(df[\"datetime\"])\n",
    "features = [\"year\"]\n",
    "df[features] = df.apply(lambda row: pd.Series({\"year\":row.datetime.year}), axis=1)\n",
    "\n",
    "X = df[features]\n",
    "y = df[[\"数据\"]]\n",
    "\n",
    "X_train, X_test, y_train, y_test = train_test_split(X, y, test_size=0.2)\n",
    "\n",
    "model = LinearRegression()\n",
    "model.fit(X_train, y_train)\n",
    "\n",
    "y_pred = model.predict(X_test)\n",
    "\n",
    "print(mean_squared_error(y_test, y_pred))"
   ]
  },
  {
   "cell_type": "code",
   "execution_count": 13,
   "id": "c79d1fb0",
   "metadata": {},
   "outputs": [],
   "source": [
    "pre = pd.DataFrame(data = [2024,2025,2026], columns=[\"year\"])"
   ]
  },
  {
   "cell_type": "code",
   "execution_count": 14,
   "id": "c15e6702",
   "metadata": {},
   "outputs": [
    {
     "data": {
      "text/plain": [
       "array([[6478.72542373],\n",
       "       [6845.03220339],\n",
       "       [7211.33898305]])"
      ]
     },
     "execution_count": 14,
     "metadata": {},
     "output_type": "execute_result"
    }
   ],
   "source": [
    "model.predict(pre)"
   ]
  },
  {
   "cell_type": "markdown",
   "id": "d10b49e2",
   "metadata": {},
   "source": [
    "未来三年的床垫需求分别为6478.72542373、6845.03220339、7211.33898305"
   ]
  },
  {
   "cell_type": "markdown",
   "id": "c245522f",
   "metadata": {},
   "source": [
    "## 线性回归预测未来三年消费金额"
   ]
  },
  {
   "cell_type": "code",
   "execution_count": 15,
   "id": "3514f9ee",
   "metadata": {},
   "outputs": [],
   "source": [
    "y = [538.7,676.2,718.1,803.3,834.8,913.6]"
   ]
  },
  {
   "cell_type": "code",
   "execution_count": 16,
   "id": "bf5f9456",
   "metadata": {},
   "outputs": [
    {
     "data": {
      "text/plain": [
       "[['2018-01-01', 538.7],\n",
       " ['2019-01-01', 676.2],\n",
       " ['2020-01-01', 718.1],\n",
       " ['2021-01-01', 803.3],\n",
       " ['2022-01-01', 834.8],\n",
       " ['2023-01-01', 913.6]]"
      ]
     },
     "execution_count": 16,
     "metadata": {},
     "output_type": "execute_result"
    }
   ],
   "source": [
    "data = []\n",
    "for i in range(len(x)):\n",
    "    xixi = []\n",
    "    xixi.append(x[i])\n",
    "    xixi.append(y[i])\n",
    "    data.append(list(xixi))\n",
    "data"
   ]
  },
  {
   "cell_type": "code",
   "execution_count": 17,
   "id": "e186372c",
   "metadata": {},
   "outputs": [],
   "source": [
    "df = pd.DataFrame(data = data, columns=[\"datetime\",\"数据\"])"
   ]
  },
  {
   "cell_type": "code",
   "execution_count": 18,
   "id": "03a32c55",
   "metadata": {},
   "outputs": [
    {
     "name": "stdout",
     "output_type": "stream",
     "text": [
      "2037.7824999996728\n"
     ]
    }
   ],
   "source": [
    "df[\"datetime\"] = pd.to_datetime(df[\"datetime\"])\n",
    "features = [\"year\"]\n",
    "df[features] = df.apply(lambda row: pd.Series({\"year\":row.datetime.year}), axis=1)\n",
    "\n",
    "X = df[features]\n",
    "y = df[[\"数据\"]]\n",
    "\n",
    "X_train, X_test, y_train, y_test = train_test_split(X, y, test_size=0.2)\n",
    "\n",
    "model = LinearRegression()\n",
    "model.fit(X_train, y_train)\n",
    "\n",
    "y_pred = model.predict(X_test)\n",
    "\n",
    "print(mean_squared_error(y_test, y_pred))"
   ]
  },
  {
   "cell_type": "code",
   "execution_count": 19,
   "id": "8dc69e50",
   "metadata": {},
   "outputs": [],
   "source": [
    "pre = pd.DataFrame(data = [2024,2025,2026], columns=[\"year\"])"
   ]
  },
  {
   "cell_type": "code",
   "execution_count": 20,
   "id": "3fc890ff",
   "metadata": {},
   "outputs": [
    {
     "data": {
      "text/plain": [
       "array([[ 971.95],\n",
       "       [1033.75],\n",
       "       [1095.55]])"
      ]
     },
     "execution_count": 20,
     "metadata": {},
     "output_type": "execute_result"
    }
   ],
   "source": [
    "model.predict(pre)"
   ]
  },
  {
   "cell_type": "markdown",
   "id": "c1bf3585",
   "metadata": {},
   "source": [
    "未来三年的消费金额分别为971.95、1033.75、1095.55"
   ]
  },
  {
   "cell_type": "code",
   "execution_count": null,
   "id": "14a79442",
   "metadata": {},
   "outputs": [],
   "source": []
  }
 ],
 "metadata": {
  "kernelspec": {
   "display_name": "Python 3",
   "language": "python",
   "name": "python3"
  },
  "language_info": {
   "codemirror_mode": {
    "name": "ipython",
    "version": 3
   },
   "file_extension": ".py",
   "mimetype": "text/x-python",
   "name": "python",
   "nbconvert_exporter": "python",
   "pygments_lexer": "ipython3",
   "version": "3.8.8"
  }
 },
 "nbformat": 4,
 "nbformat_minor": 5
}
