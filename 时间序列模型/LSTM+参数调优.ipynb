{
 "cells": [
  {
   "cell_type": "markdown",
   "id": "f8e664f6",
   "metadata": {},
   "source": [
    "## 导入库和数据"
   ]
  },
  {
   "cell_type": "code",
   "execution_count": 1,
   "id": "ae617988",
   "metadata": {},
   "outputs": [],
   "source": [
    "import numpy as np\n",
    "import pandas as pd\n",
    "from matplotlib import pyplot as plt\n",
    "from tensorflow.keras.models import Sequential\n",
    "from tensorflow.keras.layers import LSTM\n",
    "from tensorflow.keras.layers import Dense, Dropout\n",
    "from sklearn.preprocessing import MinMaxScaler\n",
    "from keras.wrappers.scikit_learn import KerasRegressor\n",
    "from sklearn.model_selection import GridSearchCV"
   ]
  },
  {
   "cell_type": "code",
   "execution_count": 2,
   "id": "87537d89",
   "metadata": {},
   "outputs": [
    {
     "data": {
      "text/html": [
       "<div>\n",
       "<style scoped>\n",
       "    .dataframe tbody tr th:only-of-type {\n",
       "        vertical-align: middle;\n",
       "    }\n",
       "\n",
       "    .dataframe tbody tr th {\n",
       "        vertical-align: top;\n",
       "    }\n",
       "\n",
       "    .dataframe thead th {\n",
       "        text-align: right;\n",
       "    }\n",
       "</style>\n",
       "<table border=\"1\" class=\"dataframe\">\n",
       "  <thead>\n",
       "    <tr style=\"text-align: right;\">\n",
       "      <th></th>\n",
       "      <th>Row1</th>\n",
       "      <th>Row2</th>\n",
       "      <th>Row3</th>\n",
       "      <th>Row4</th>\n",
       "      <th>Row5</th>\n",
       "      <th>Row6</th>\n",
       "      <th>Row7</th>\n",
       "      <th>Row8</th>\n",
       "      <th>Row9</th>\n",
       "    </tr>\n",
       "    <tr>\n",
       "      <th>trade_date</th>\n",
       "      <th></th>\n",
       "      <th></th>\n",
       "      <th></th>\n",
       "      <th></th>\n",
       "      <th></th>\n",
       "      <th></th>\n",
       "      <th></th>\n",
       "      <th></th>\n",
       "      <th></th>\n",
       "    </tr>\n",
       "  </thead>\n",
       "  <tbody>\n",
       "    <tr>\n",
       "      <th>2014-06-19</th>\n",
       "      <td>0.009400</td>\n",
       "      <td>-0.241265</td>\n",
       "      <td>-0.062255</td>\n",
       "      <td>0.396046</td>\n",
       "      <td>-0.200110</td>\n",
       "      <td>0.892711</td>\n",
       "      <td>7.741112</td>\n",
       "      <td>7.042818</td>\n",
       "      <td>15.161542</td>\n",
       "    </tr>\n",
       "    <tr>\n",
       "      <th>2014-06-20</th>\n",
       "      <td>0.021499</td>\n",
       "      <td>-0.235724</td>\n",
       "      <td>-0.091477</td>\n",
       "      <td>0.399708</td>\n",
       "      <td>-0.203983</td>\n",
       "      <td>0.895268</td>\n",
       "      <td>7.745161</td>\n",
       "      <td>7.045542</td>\n",
       "      <td>15.164007</td>\n",
       "    </tr>\n",
       "    <tr>\n",
       "      <th>2014-06-23</th>\n",
       "      <td>-0.003928</td>\n",
       "      <td>-0.211690</td>\n",
       "      <td>-0.083402</td>\n",
       "      <td>0.392153</td>\n",
       "      <td>-0.203865</td>\n",
       "      <td>0.896612</td>\n",
       "      <td>7.749445</td>\n",
       "      <td>7.048199</td>\n",
       "      <td>15.166476</td>\n",
       "    </tr>\n",
       "    <tr>\n",
       "      <th>2014-06-24</th>\n",
       "      <td>-0.004123</td>\n",
       "      <td>-0.254588</td>\n",
       "      <td>-0.035452</td>\n",
       "      <td>0.373585</td>\n",
       "      <td>-0.199849</td>\n",
       "      <td>0.896718</td>\n",
       "      <td>7.753970</td>\n",
       "      <td>7.050790</td>\n",
       "      <td>15.168949</td>\n",
       "    </tr>\n",
       "    <tr>\n",
       "      <th>2014-06-25</th>\n",
       "      <td>-0.036716</td>\n",
       "      <td>-0.274480</td>\n",
       "      <td>0.029313</td>\n",
       "      <td>0.345070</td>\n",
       "      <td>-0.192232</td>\n",
       "      <td>0.895568</td>\n",
       "      <td>7.758738</td>\n",
       "      <td>7.053315</td>\n",
       "      <td>15.171426</td>\n",
       "    </tr>\n",
       "  </tbody>\n",
       "</table>\n",
       "</div>"
      ],
      "text/plain": [
       "                Row1      Row2      Row3      Row4      Row5      Row6  \\\n",
       "trade_date                                                               \n",
       "2014-06-19  0.009400 -0.241265 -0.062255  0.396046 -0.200110  0.892711   \n",
       "2014-06-20  0.021499 -0.235724 -0.091477  0.399708 -0.203983  0.895268   \n",
       "2014-06-23 -0.003928 -0.211690 -0.083402  0.392153 -0.203865  0.896612   \n",
       "2014-06-24 -0.004123 -0.254588 -0.035452  0.373585 -0.199849  0.896718   \n",
       "2014-06-25 -0.036716 -0.274480  0.029313  0.345070 -0.192232  0.895568   \n",
       "\n",
       "                Row7      Row8       Row9  \n",
       "trade_date                                 \n",
       "2014-06-19  7.741112  7.042818  15.161542  \n",
       "2014-06-20  7.745161  7.045542  15.164007  \n",
       "2014-06-23  7.749445  7.048199  15.166476  \n",
       "2014-06-24  7.753970  7.050790  15.168949  \n",
       "2014-06-25  7.758738  7.053315  15.171426  "
      ]
     },
     "execution_count": 2,
     "metadata": {},
     "output_type": "execute_result"
    }
   ],
   "source": [
    "df=pd.read_csv(\"example_data_transposed.csv\",parse_dates=[\"trade_date\"],index_col=[0])\n",
    "df.head()"
   ]
  },
  {
   "cell_type": "code",
   "execution_count": 3,
   "id": "9efccb08",
   "metadata": {},
   "outputs": [],
   "source": [
    "df = df[\"Row9\"]\n",
    "df = pd.DataFrame(df)"
   ]
  },
  {
   "cell_type": "code",
   "execution_count": 4,
   "id": "fc96c9fc",
   "metadata": {},
   "outputs": [
    {
     "data": {
      "text/plain": [
       "(2381, 1)"
      ]
     },
     "execution_count": 4,
     "metadata": {},
     "output_type": "execute_result"
    }
   ],
   "source": [
    "test_split=round(len(df)*0.20)\n",
    "df.shape"
   ]
  },
  {
   "cell_type": "code",
   "execution_count": 5,
   "id": "4b2b43e7",
   "metadata": {},
   "outputs": [
    {
     "name": "stdout",
     "output_type": "stream",
     "text": [
      "(1340, 1)\n",
      "(1041, 1)\n"
     ]
    }
   ],
   "source": [
    "df_for_training=df[:-1041]\n",
    "df_for_testing=df[-1041:]\n",
    "print(df_for_training.shape)\n",
    "print(df_for_testing.shape)"
   ]
  },
  {
   "cell_type": "code",
   "execution_count": 6,
   "id": "9083df71",
   "metadata": {},
   "outputs": [],
   "source": [
    "df=df.astype(float)"
   ]
  },
  {
   "cell_type": "markdown",
   "id": "e232b860",
   "metadata": {},
   "source": [
    "## 进行minmax标准化"
   ]
  },
  {
   "cell_type": "code",
   "execution_count": 7,
   "id": "65adb0f8",
   "metadata": {},
   "outputs": [
    {
     "data": {
      "text/plain": [
       "array([[0.00000000e+00],\n",
       "       [4.45162492e-04],\n",
       "       [8.91070870e-04],\n",
       "       ...,\n",
       "       [9.98297341e-01],\n",
       "       [9.99148739e-01],\n",
       "       [1.00000000e+00]])"
      ]
     },
     "execution_count": 7,
     "metadata": {},
     "output_type": "execute_result"
    }
   ],
   "source": [
    "scaler = MinMaxScaler(feature_range=(0,1))\n",
    "df_for_training_scaled = scaler.fit_transform(df_for_training)\n",
    "df_for_testing_scaled=scaler.transform(df_for_testing)\n",
    "df_for_training_scaled"
   ]
  },
  {
   "cell_type": "code",
   "execution_count": 8,
   "id": "ef99fc2a",
   "metadata": {},
   "outputs": [],
   "source": [
    "def createXY(dataset,n_past):\n",
    "    dataX = []\n",
    "    dataY = []\n",
    "    for i in range(n_past, len(dataset)):\n",
    "            dataX.append(dataset[i - n_past:i, 0:dataset.shape[1]])\n",
    "            dataY.append(dataset[i,0])\n",
    "    return np.array(dataX),np.array(dataY)\n",
    " \n",
    " \n",
    "    trainX,trainY=createXY(df_for_training_scaled,30)\n",
    "testX,testY=createXY(df_for_testing_scaled,30)\n",
    "trainX,trainY=createXY(df_for_training_scaled,30)"
   ]
  },
  {
   "cell_type": "code",
   "execution_count": 9,
   "id": "ab863d74",
   "metadata": {},
   "outputs": [
    {
     "name": "stdout",
     "output_type": "stream",
     "text": [
      "trainX Shape--  (1310, 30, 1)\n",
      "trainY Shape--  (1310,)\n",
      "testX Shape--  (1011, 30, 1)\n",
      "testY Shape--  (1011,)\n"
     ]
    }
   ],
   "source": [
    "print(\"trainX Shape-- \",trainX.shape)\n",
    "print(\"trainY Shape-- \",trainY.shape)\n",
    "\n",
    " \n",
    "print(\"testX Shape-- \",testX.shape)\n",
    "print(\"testY Shape-- \",testY.shape)\n"
   ]
  },
  {
   "cell_type": "markdown",
   "id": "5584e43e",
   "metadata": {},
   "source": [
    "## 定义LSTM模型+优化参数算法"
   ]
  },
  {
   "cell_type": "code",
   "execution_count": 10,
   "id": "f9f1ce76",
   "metadata": {},
   "outputs": [
    {
     "name": "stderr",
     "output_type": "stream",
     "text": [
      "<ipython-input-10-02a27f7b2eb5>:11: DeprecationWarning: KerasRegressor is deprecated, use Sci-Keras (https://github.com/adriangb/scikeras) instead. See https://www.adriangb.com/scikeras/stable/migration.html for help migrating.\n",
      "  grid_model = KerasRegressor(build_fn=build_model,verbose=1)\n"
     ]
    },
    {
     "name": "stdout",
     "output_type": "stream",
     "text": [
      "Epoch 1/8\n",
      "41/41 [==============================] - 4s 37ms/step - loss: 0.1022 - val_loss: 0.0345\n",
      "Epoch 2/8\n",
      "41/41 [==============================] - 1s 18ms/step - loss: 0.0065 - val_loss: 0.0466\n",
      "Epoch 3/8\n",
      "41/41 [==============================] - 1s 18ms/step - loss: 0.0045 - val_loss: 0.0073\n",
      "Epoch 4/8\n",
      "41/41 [==============================] - 1s 19ms/step - loss: 0.0046 - val_loss: 0.0016\n",
      "Epoch 5/8\n",
      "41/41 [==============================] - 1s 18ms/step - loss: 0.0049 - val_loss: 7.4506e-04\n",
      "Epoch 6/8\n",
      "41/41 [==============================] - 1s 19ms/step - loss: 0.0045 - val_loss: 4.4187e-04\n",
      "Epoch 7/8\n",
      "41/41 [==============================] - 1s 20ms/step - loss: 0.0038 - val_loss: 4.7447e-04\n",
      "Epoch 8/8\n",
      "41/41 [==============================] - 1s 18ms/step - loss: 0.0037 - val_loss: 6.9559e-04\n",
      "41/41 [==============================] - 0s 3ms/step - loss: 0.0015\n",
      "Epoch 1/8\n",
      "41/41 [==============================] - 4s 36ms/step - loss: 0.0078 - val_loss: 0.0330\n",
      "Epoch 2/8\n",
      "41/41 [==============================] - 1s 21ms/step - loss: 6.5240e-04 - val_loss: 0.0183\n",
      "Epoch 3/8\n",
      "41/41 [==============================] - 1s 20ms/step - loss: 4.7652e-04 - val_loss: 0.0186\n",
      "Epoch 4/8\n",
      "41/41 [==============================] - 1s 20ms/step - loss: 5.0708e-04 - val_loss: 0.0397\n",
      "Epoch 5/8\n",
      "41/41 [==============================] - 1s 19ms/step - loss: 4.2845e-04 - val_loss: 0.0147\n",
      "Epoch 6/8\n",
      "41/41 [==============================] - 1s 20ms/step - loss: 3.7719e-04 - val_loss: 0.0118\n",
      "Epoch 7/8\n",
      "41/41 [==============================] - 1s 20ms/step - loss: 4.4979e-04 - val_loss: 0.0234\n",
      "Epoch 8/8\n",
      "41/41 [==============================] - 1s 20ms/step - loss: 4.2765e-04 - val_loss: 0.0150\n",
      "41/41 [==============================] - 0s 4ms/step - loss: 4.5871e-05\n",
      "Epoch 1/8\n",
      "41/41 [==============================] - 4s 36ms/step - loss: 0.5079 - val_loss: 1.8833\n",
      "Epoch 2/8\n",
      "41/41 [==============================] - 1s 19ms/step - loss: 0.5016 - val_loss: 1.8573\n",
      "Epoch 3/8\n",
      "41/41 [==============================] - 1s 22ms/step - loss: 0.4911 - val_loss: 1.8306\n",
      "Epoch 4/8\n",
      "41/41 [==============================] - 1s 21ms/step - loss: 0.4826 - val_loss: 1.8030\n",
      "Epoch 5/8\n",
      "41/41 [==============================] - 1s 21ms/step - loss: 0.4772 - val_loss: 1.7749\n",
      "Epoch 6/8\n",
      "41/41 [==============================] - 1s 22ms/step - loss: 0.4661 - val_loss: 1.7461\n",
      "Epoch 7/8\n",
      "41/41 [==============================] - 1s 21ms/step - loss: 0.4589 - val_loss: 1.7167\n",
      "Epoch 8/8\n",
      "41/41 [==============================] - 1s 22ms/step - loss: 0.4479 - val_loss: 1.6867\n",
      "41/41 [==============================] - 0s 4ms/step - loss: 0.0464\n",
      "Epoch 1/8\n",
      "41/41 [==============================] - 4s 39ms/step - loss: 0.0533 - val_loss: 1.8391\n",
      "Epoch 2/8\n",
      "41/41 [==============================] - 1s 20ms/step - loss: 0.0527 - val_loss: 1.8267\n",
      "Epoch 3/8\n",
      "41/41 [==============================] - 1s 22ms/step - loss: 0.0517 - val_loss: 1.8143\n",
      "Epoch 4/8\n",
      "41/41 [==============================] - 1s 24ms/step - loss: 0.0513 - val_loss: 1.8016\n",
      "Epoch 5/8\n",
      "41/41 [==============================] - 1s 21ms/step - loss: 0.0506 - val_loss: 1.7888\n",
      "Epoch 6/8\n",
      "41/41 [==============================] - 1s 22ms/step - loss: 0.0501 - val_loss: 1.7756\n",
      "Epoch 7/8\n",
      "41/41 [==============================] - 1s 21ms/step - loss: 0.0498 - val_loss: 1.7625\n",
      "Epoch 8/8\n",
      "41/41 [==============================] - 1s 21ms/step - loss: 0.0488 - val_loss: 1.7493\n",
      "41/41 [==============================] - 0s 4ms/step - loss: 0.4568\n",
      "Epoch 1/10\n",
      "41/41 [==============================] - 4s 42ms/step - loss: 0.0415 - val_loss: 0.0694\n",
      "Epoch 2/10\n",
      "41/41 [==============================] - 1s 22ms/step - loss: 0.0061 - val_loss: 0.0312\n",
      "Epoch 3/10\n",
      "41/41 [==============================] - 1s 21ms/step - loss: 0.0048 - val_loss: 0.0055\n",
      "Epoch 4/10\n",
      "41/41 [==============================] - 1s 21ms/step - loss: 0.0040 - val_loss: 0.0026\n",
      "Epoch 5/10\n",
      "41/41 [==============================] - 1s 21ms/step - loss: 0.0037 - val_loss: 1.2540e-04\n",
      "Epoch 6/10\n",
      "41/41 [==============================] - 1s 23ms/step - loss: 0.0037 - val_loss: 0.0064\n",
      "Epoch 7/10\n",
      "41/41 [==============================] - 1s 22ms/step - loss: 0.0040 - val_loss: 0.0111\n",
      "Epoch 8/10\n",
      "41/41 [==============================] - 1s 21ms/step - loss: 0.0033 - val_loss: 0.0041\n",
      "Epoch 9/10\n",
      "41/41 [==============================] - 1s 21ms/step - loss: 0.0038 - val_loss: 0.0011\n",
      "Epoch 10/10\n",
      "41/41 [==============================] - 1s 23ms/step - loss: 0.0032 - val_loss: 0.0027\n",
      "41/41 [==============================] - 0s 4ms/step - loss: 2.1023e-04\n",
      "Epoch 1/10\n",
      "41/41 [==============================] - 4s 37ms/step - loss: 0.0050 - val_loss: 0.0340\n",
      "Epoch 2/10\n",
      "41/41 [==============================] - 1s 22ms/step - loss: 6.1685e-04 - val_loss: 0.0146\n",
      "Epoch 3/10\n",
      "41/41 [==============================] - 1s 22ms/step - loss: 5.4617e-04 - val_loss: 0.0141\n",
      "Epoch 4/10\n",
      "41/41 [==============================] - 1s 20ms/step - loss: 4.2265e-04 - val_loss: 0.0028\n",
      "Epoch 5/10\n",
      "41/41 [==============================] - 1s 20ms/step - loss: 4.1994e-04 - val_loss: 0.0111\n",
      "Epoch 6/10\n",
      "41/41 [==============================] - 1s 22ms/step - loss: 4.1051e-04 - val_loss: 0.0305\n",
      "Epoch 7/10\n",
      "41/41 [==============================] - 1s 22ms/step - loss: 5.9892e-04 - val_loss: 0.0058\n",
      "Epoch 8/10\n",
      "41/41 [==============================] - 1s 22ms/step - loss: 4.5953e-04 - val_loss: 0.0070\n",
      "Epoch 9/10\n",
      "41/41 [==============================] - 1s 23ms/step - loss: 3.8548e-04 - val_loss: 0.0041\n",
      "Epoch 10/10\n",
      "41/41 [==============================] - 1s 23ms/step - loss: 3.5599e-04 - val_loss: 0.0145\n",
      "41/41 [==============================] - 0s 4ms/step - loss: 0.0011\n",
      "Epoch 1/10\n",
      "41/41 [==============================] - 4s 37ms/step - loss: 0.6979 - val_loss: 2.5109\n",
      "Epoch 2/10\n",
      "41/41 [==============================] - 1s 21ms/step - loss: 0.6899 - val_loss: 2.4860\n",
      "Epoch 3/10\n",
      "41/41 [==============================] - 1s 22ms/step - loss: 0.6835 - val_loss: 2.4608\n",
      "Epoch 4/10\n",
      "41/41 [==============================] - 1s 23ms/step - loss: 0.6783 - val_loss: 2.4351\n",
      "Epoch 5/10\n",
      "41/41 [==============================] - 1s 23ms/step - loss: 0.6624 - val_loss: 2.4095\n",
      "Epoch 6/10\n",
      "41/41 [==============================] - 1s 23ms/step - loss: 0.6615 - val_loss: 2.3833\n",
      "Epoch 7/10\n",
      "41/41 [==============================] - 1s 21ms/step - loss: 0.6502 - val_loss: 2.3568\n",
      "Epoch 8/10\n",
      "41/41 [==============================] - 1s 21ms/step - loss: 0.6455 - val_loss: 2.3301\n",
      "Epoch 9/10\n",
      "41/41 [==============================] - 1s 22ms/step - loss: 0.6329 - val_loss: 2.3032\n",
      "Epoch 10/10\n",
      "41/41 [==============================] - 1s 23ms/step - loss: 0.6226 - val_loss: 2.2759\n",
      "41/41 [==============================] - 0s 4ms/step - loss: 0.0660\n",
      "Epoch 1/10\n",
      "41/41 [==============================] - 4s 39ms/step - loss: 0.0580 - val_loss: 1.9399\n",
      "Epoch 2/10\n",
      "41/41 [==============================] - 1s 21ms/step - loss: 0.0575 - val_loss: 1.9233\n",
      "Epoch 3/10\n",
      "41/41 [==============================] - 1s 23ms/step - loss: 0.0563 - val_loss: 1.9065\n",
      "Epoch 4/10\n",
      "41/41 [==============================] - 1s 23ms/step - loss: 0.0552 - val_loss: 1.8896\n",
      "Epoch 5/10\n",
      "41/41 [==============================] - 1s 20ms/step - loss: 0.0547 - val_loss: 1.8726\n",
      "Epoch 6/10\n",
      "41/41 [==============================] - 1s 23ms/step - loss: 0.0537 - val_loss: 1.8553\n",
      "Epoch 7/10\n",
      "41/41 [==============================] - 1s 23ms/step - loss: 0.0528 - val_loss: 1.8380\n",
      "Epoch 8/10\n",
      "41/41 [==============================] - 1s 23ms/step - loss: 0.0519 - val_loss: 1.8206\n",
      "Epoch 9/10\n",
      "41/41 [==============================] - 1s 22ms/step - loss: 0.0506 - val_loss: 1.8031\n",
      "Epoch 10/10\n",
      "41/41 [==============================] - 1s 23ms/step - loss: 0.0499 - val_loss: 1.7856\n",
      "41/41 [==============================] - 0s 4ms/step - loss: 0.4746\n",
      "Epoch 1/8\n",
      "33/33 [==============================] - 4s 48ms/step - loss: 0.0607 - val_loss: 0.0498\n",
      "Epoch 2/8\n",
      "33/33 [==============================] - 1s 23ms/step - loss: 0.0073 - val_loss: 0.0572\n",
      "Epoch 3/8\n",
      "33/33 [==============================] - 1s 23ms/step - loss: 0.0057 - val_loss: 0.0236\n",
      "Epoch 4/8\n",
      "33/33 [==============================] - 1s 26ms/step - loss: 0.0051 - val_loss: 0.0012\n",
      "Epoch 5/8\n"
     ]
    },
    {
     "name": "stdout",
     "output_type": "stream",
     "text": [
      "33/33 [==============================] - 1s 23ms/step - loss: 0.0040 - val_loss: 0.0079\n",
      "Epoch 6/8\n",
      "33/33 [==============================] - 1s 25ms/step - loss: 0.0035 - val_loss: 0.0028\n",
      "Epoch 7/8\n",
      "33/33 [==============================] - 1s 23ms/step - loss: 0.0036 - val_loss: 0.0041\n",
      "Epoch 8/8\n",
      "33/33 [==============================] - 1s 23ms/step - loss: 0.0035 - val_loss: 0.0014\n",
      "33/33 [==============================] - 0s 6ms/step - loss: 7.3410e-04\n",
      "Epoch 1/8\n",
      "33/33 [==============================] - 4s 42ms/step - loss: 0.0062 - val_loss: 0.0164\n",
      "Epoch 2/8\n",
      "33/33 [==============================] - 1s 25ms/step - loss: 7.6614e-04 - val_loss: 0.0028\n",
      "Epoch 3/8\n",
      "33/33 [==============================] - 1s 26ms/step - loss: 6.0171e-04 - val_loss: 0.0030\n",
      "Epoch 4/8\n",
      "33/33 [==============================] - 1s 22ms/step - loss: 4.0987e-04 - val_loss: 0.0044\n",
      "Epoch 5/8\n",
      "33/33 [==============================] - 1s 21ms/step - loss: 4.3273e-04 - val_loss: 0.0114\n",
      "Epoch 6/8\n",
      "33/33 [==============================] - 1s 21ms/step - loss: 4.4723e-04 - val_loss: 0.0100\n",
      "Epoch 7/8\n",
      "33/33 [==============================] - 1s 21ms/step - loss: 3.6710e-04 - val_loss: 0.0025\n",
      "Epoch 8/8\n",
      "33/33 [==============================] - 1s 21ms/step - loss: 3.8754e-04 - val_loss: 0.0012\n",
      "33/33 [==============================] - 0s 4ms/step - loss: 0.0012\n",
      "Epoch 1/8\n",
      "33/33 [==============================] - 4s 41ms/step - loss: 0.4986 - val_loss: 1.8703\n",
      "Epoch 2/8\n",
      "33/33 [==============================] - 1s 23ms/step - loss: 0.4937 - val_loss: 1.8551\n",
      "Epoch 3/8\n",
      "33/33 [==============================] - 1s 21ms/step - loss: 0.4871 - val_loss: 1.8393\n",
      "Epoch 4/8\n",
      "33/33 [==============================] - 1s 22ms/step - loss: 0.4828 - val_loss: 1.8235\n",
      "Epoch 5/8\n",
      "33/33 [==============================] - 1s 24ms/step - loss: 0.4738 - val_loss: 1.8073\n",
      "Epoch 6/8\n",
      "33/33 [==============================] - 1s 25ms/step - loss: 0.4720 - val_loss: 1.7908\n",
      "Epoch 7/8\n",
      "33/33 [==============================] - 1s 24ms/step - loss: 0.4659 - val_loss: 1.7741\n",
      "Epoch 8/8\n",
      "33/33 [==============================] - 1s 24ms/step - loss: 0.4626 - val_loss: 1.7570\n",
      "33/33 [==============================] - 0s 5ms/step - loss: 0.0481\n",
      "Epoch 1/8\n",
      "33/33 [==============================] - 4s 41ms/step - loss: 0.0542 - val_loss: 1.7405\n",
      "Epoch 2/8\n",
      "33/33 [==============================] - 1s 21ms/step - loss: 0.0535 - val_loss: 1.7223\n",
      "Epoch 3/8\n",
      "33/33 [==============================] - 1s 22ms/step - loss: 0.0524 - val_loss: 1.7041\n",
      "Epoch 4/8\n",
      "33/33 [==============================] - 1s 26ms/step - loss: 0.0514 - val_loss: 1.6853\n",
      "Epoch 5/8\n",
      "33/33 [==============================] - 1s 22ms/step - loss: 0.0503 - val_loss: 1.6667\n",
      "Epoch 6/8\n",
      "33/33 [==============================] - 1s 22ms/step - loss: 0.0500 - val_loss: 1.6479\n",
      "Epoch 7/8\n",
      "33/33 [==============================] - 1s 23ms/step - loss: 0.0483 - val_loss: 1.6290\n",
      "Epoch 8/8\n",
      "33/33 [==============================] - 1s 22ms/step - loss: 0.0473 - val_loss: 1.6102\n",
      "33/33 [==============================] - 0s 5ms/step - loss: 0.4364\n",
      "Epoch 1/10\n",
      "33/33 [==============================] - 4s 44ms/step - loss: 0.1297 - val_loss: 0.0510\n",
      "Epoch 2/10\n",
      "33/33 [==============================] - 1s 23ms/step - loss: 0.0072 - val_loss: 0.0218\n",
      "Epoch 3/10\n",
      "33/33 [==============================] - 1s 21ms/step - loss: 0.0054 - val_loss: 0.0097\n",
      "Epoch 4/10\n",
      "33/33 [==============================] - 1s 24ms/step - loss: 0.0046 - val_loss: 0.0033\n",
      "Epoch 5/10\n",
      "33/33 [==============================] - 1s 22ms/step - loss: 0.0042 - val_loss: 0.0034\n",
      "Epoch 6/10\n",
      "33/33 [==============================] - 1s 22ms/step - loss: 0.0042 - val_loss: 0.0013\n",
      "Epoch 7/10\n",
      "33/33 [==============================] - 1s 24ms/step - loss: 0.0042 - val_loss: 2.1983e-04\n",
      "Epoch 8/10\n",
      "33/33 [==============================] - 1s 23ms/step - loss: 0.0036 - val_loss: 6.5692e-05\n",
      "Epoch 9/10\n",
      "33/33 [==============================] - 1s 25ms/step - loss: 0.0036 - val_loss: 6.9545e-04\n",
      "Epoch 10/10\n",
      "33/33 [==============================] - 1s 24ms/step - loss: 0.0033 - val_loss: 0.0015\n",
      "33/33 [==============================] - 0s 4ms/step - loss: 0.0017\n",
      "Epoch 1/10\n",
      "33/33 [==============================] - 4s 44ms/step - loss: 0.0091 - val_loss: 0.0276\n",
      "Epoch 2/10\n",
      "33/33 [==============================] - 1s 22ms/step - loss: 8.0050e-04 - val_loss: 0.0271\n",
      "Epoch 3/10\n",
      "33/33 [==============================] - 1s 23ms/step - loss: 4.6459e-04 - val_loss: 0.0153\n",
      "Epoch 4/10\n",
      "33/33 [==============================] - 1s 23ms/step - loss: 4.2303e-04 - val_loss: 0.0180\n",
      "Epoch 5/10\n",
      "33/33 [==============================] - 1s 22ms/step - loss: 4.2997e-04 - val_loss: 0.0308\n",
      "Epoch 6/10\n",
      "33/33 [==============================] - 1s 23ms/step - loss: 4.1666e-04 - val_loss: 0.0407\n",
      "Epoch 7/10\n",
      "33/33 [==============================] - 1s 21ms/step - loss: 4.0588e-04 - val_loss: 0.0235\n",
      "Epoch 8/10\n",
      "33/33 [==============================] - 1s 24ms/step - loss: 3.6443e-04 - val_loss: 0.0291\n",
      "Epoch 9/10\n",
      "33/33 [==============================] - 1s 22ms/step - loss: 3.3913e-04 - val_loss: 0.0339\n",
      "Epoch 10/10\n",
      "33/33 [==============================] - 1s 21ms/step - loss: 3.6350e-04 - val_loss: 0.0372\n",
      "33/33 [==============================] - 0s 4ms/step - loss: 0.0014\n",
      "Epoch 1/10\n",
      "33/33 [==============================] - 4s 41ms/step - loss: 0.4686 - val_loss: 1.7770\n",
      "Epoch 2/10\n",
      "33/33 [==============================] - 1s 21ms/step - loss: 0.4599 - val_loss: 1.7589\n",
      "Epoch 3/10\n",
      "33/33 [==============================] - 1s 21ms/step - loss: 0.4569 - val_loss: 1.7403\n",
      "Epoch 4/10\n",
      "33/33 [==============================] - 1s 20ms/step - loss: 0.4512 - val_loss: 1.7213\n",
      "Epoch 5/10\n",
      "33/33 [==============================] - 1s 20ms/step - loss: 0.4451 - val_loss: 1.7019\n",
      "Epoch 6/10\n",
      "33/33 [==============================] - 1s 20ms/step - loss: 0.4389 - val_loss: 1.6823\n",
      "Epoch 7/10\n",
      "33/33 [==============================] - 1s 19ms/step - loss: 0.4319 - val_loss: 1.6623\n",
      "Epoch 8/10\n",
      "33/33 [==============================] - 1s 20ms/step - loss: 0.4272 - val_loss: 1.6421\n",
      "Epoch 9/10\n",
      "33/33 [==============================] - 1s 19ms/step - loss: 0.4196 - val_loss: 1.6213\n",
      "Epoch 10/10\n",
      "33/33 [==============================] - 1s 19ms/step - loss: 0.4099 - val_loss: 1.6004\n",
      "33/33 [==============================] - 0s 4ms/step - loss: 0.0413\n",
      "Epoch 1/10\n",
      "33/33 [==============================] - 4s 39ms/step - loss: 0.0595 - val_loss: 1.9701\n",
      "Epoch 2/10\n",
      "33/33 [==============================] - 1s 20ms/step - loss: 0.0592 - val_loss: 1.9590\n",
      "Epoch 3/10\n",
      "33/33 [==============================] - 1s 22ms/step - loss: 0.0587 - val_loss: 1.9479\n",
      "Epoch 4/10\n",
      "33/33 [==============================] - 1s 20ms/step - loss: 0.0579 - val_loss: 1.9366\n",
      "Epoch 5/10\n",
      "33/33 [==============================] - 1s 21ms/step - loss: 0.0576 - val_loss: 1.9252\n",
      "Epoch 6/10\n",
      "33/33 [==============================] - 1s 22ms/step - loss: 0.0571 - val_loss: 1.9135\n",
      "Epoch 7/10\n",
      "33/33 [==============================] - 1s 20ms/step - loss: 0.0566 - val_loss: 1.9017\n",
      "Epoch 8/10\n",
      "33/33 [==============================] - 1s 22ms/step - loss: 0.0555 - val_loss: 1.8899\n",
      "Epoch 9/10\n",
      "33/33 [==============================] - 1s 22ms/step - loss: 0.0552 - val_loss: 1.8779\n",
      "Epoch 10/10\n",
      "33/33 [==============================] - 1s 23ms/step - loss: 0.0538 - val_loss: 1.8659\n",
      "33/33 [==============================] - 0s 4ms/step - loss: 0.5024\n",
      "Epoch 1/10\n",
      "82/82 [==============================] - 4s 25ms/step - loss: 0.0175 - val_loss: 0.0126\n",
      "Epoch 2/10\n",
      "82/82 [==============================] - 1s 16ms/step - loss: 0.0025 - val_loss: 0.0143\n",
      "Epoch 3/10\n",
      "82/82 [==============================] - 1s 16ms/step - loss: 0.0026 - val_loss: 0.0287\n",
      "Epoch 4/10\n",
      "82/82 [==============================] - 1s 16ms/step - loss: 0.0018 - val_loss: 0.0142\n",
      "Epoch 5/10\n",
      "82/82 [==============================] - 1s 16ms/step - loss: 0.0023 - val_loss: 0.0059\n",
      "Epoch 6/10\n",
      "82/82 [==============================] - 1s 16ms/step - loss: 0.0019 - val_loss: 0.0068\n",
      "Epoch 7/10\n",
      "82/82 [==============================] - 1s 16ms/step - loss: 0.0018 - val_loss: 0.0120\n",
      "Epoch 8/10\n",
      "82/82 [==============================] - 1s 16ms/step - loss: 0.0019 - val_loss: 0.0339\n",
      "Epoch 9/10\n",
      "82/82 [==============================] - 1s 16ms/step - loss: 0.0018 - val_loss: 0.0127\n"
     ]
    },
    {
     "name": "stdout",
     "output_type": "stream",
     "text": [
      "Epoch 10/10\n",
      "82/82 [==============================] - 1s 15ms/step - loss: 0.0017 - val_loss: 0.0042\n"
     ]
    }
   ],
   "source": [
    "def build_model(optimizer):\n",
    "    grid_model = Sequential()\n",
    "    grid_model.add(LSTM(50,return_sequences=True,input_shape=(30,1)))\n",
    "    grid_model.add(LSTM(50))\n",
    "    grid_model.add(Dropout(0.2))\n",
    "    grid_model.add(Dense(1))\n",
    "\n",
    "    grid_model.compile(loss = 'mse',optimizer = optimizer)\n",
    "    return grid_model\n",
    "\n",
    "grid_model = KerasRegressor(build_fn=build_model,verbose=1)\n",
    "parameters = {'batch_size' : [16,20],\n",
    "              'epochs' : [8,10],\n",
    "              'optimizer' : ['adam','Adadelta'] }\n",
    "\n",
    "grid_search  = GridSearchCV(estimator = grid_model,\n",
    "                            param_grid = parameters,\n",
    "                            cv = 2)\n",
    "grid_search = grid_search.fit(trainX,trainY,validation_data=(testX,testY))"
   ]
  },
  {
   "cell_type": "markdown",
   "id": "f2159ace",
   "metadata": {},
   "source": [
    "输出LSTM模型的最优参数，重新定义模型"
   ]
  },
  {
   "cell_type": "markdown",
   "id": "29bb2f93",
   "metadata": {},
   "source": [
    "batch_size: 批量大小，表示在训练过程中每次输入给模型的样本数量。训练时数据通常会被分成多个批次进行处理，每个批次包含指定数量的样本。在这里，batch_size被设置为20，意味着每次训练时，模型会接收20个样本，并使用这20个样本的平均梯度来更新模型的权重。\n",
    "\n",
    "epochs: 迭代次数，表示在整个训练数据上重复训练的次数。在每个迭代期间，模型会遍历所有的训练样本，通过反向传播和优化算法来更新模型的权重。在这里，epochs被设置为10，意味着整个训练数据会被遍历10次。\n",
    "\n",
    "optimizer: 优化器，用于更新模型的权重以最小化损失函数。在这里，使用了Adam优化器，它是一种常用的自适应学习率优化算法，可以帮助加速神经网络的训练过程。"
   ]
  },
  {
   "cell_type": "code",
   "execution_count": 11,
   "id": "2aad56d1",
   "metadata": {},
   "outputs": [
    {
     "data": {
      "text/plain": [
       "{'batch_size': 16, 'epochs': 10, 'optimizer': 'adam'}"
      ]
     },
     "execution_count": 11,
     "metadata": {},
     "output_type": "execute_result"
    }
   ],
   "source": [
    "grid_search.best_params_"
   ]
  },
  {
   "cell_type": "code",
   "execution_count": 12,
   "id": "0f15a81f",
   "metadata": {},
   "outputs": [],
   "source": [
    "my_model=grid_search.best_estimator_.model"
   ]
  },
  {
   "cell_type": "code",
   "execution_count": 13,
   "id": "3461d575",
   "metadata": {},
   "outputs": [
    {
     "name": "stdout",
     "output_type": "stream",
     "text": [
      "32/32 [==============================] - 1s 5ms/step\n",
      "prediction\n",
      " [[1.0418345]\n",
      " [1.0426185]\n",
      " [1.0434021]\n",
      " ...\n",
      " [1.5622033]\n",
      " [1.562431 ]\n",
      " [1.562658 ]]\n",
      "\n",
      "Prediction Shape- (1011, 1)\n"
     ]
    }
   ],
   "source": [
    "prediction=my_model.predict(testX)\n",
    "print(\"prediction\\n\", prediction)\n",
    "print(\"\\nPrediction Shape-\",prediction.shape) #重新进行预测"
   ]
  },
  {
   "cell_type": "markdown",
   "id": "c407992e",
   "metadata": {},
   "source": [
    "在将时间序列数据转换为多时间步的输入序列时，进行数据扩增（data augmentation）等情况。"
   ]
  },
  {
   "cell_type": "markdown",
   "id": "7ae7eb80",
   "metadata": {},
   "source": [
    "在LSTM模型的预测中使用np.repeat函数通常是为了将预测结果进行重复，从而使其与输入数据的形状保持一致，以便进行比较或进一步处理。\n",
    "\n",
    "当使用LSTM进行时间序列预测时，通常会将输入数据组织成多个时间步的序列，例如每个时间步包含过去几天的数据。LSTM模型在进行预测时，会生成未来某个时间步的预测值，通常是单个时间步的预测。\n",
    "\n",
    "然而，为了将预测结果与输入数据进行对应，有时需要将预测值复制多次，使其与输入数据的时间步数相同。这就是使用np.repeat函数的目的。\n",
    "\n",
    "让我们假设有一个LSTM模型进行销售量预测，我们使用过去5天的销售量作为输入来预测未来1天的销售量。LSTM模型会生成一个预测值，但是我们希望将这个预测值与过去5天的销售量进行对应，这样更方便进行比较和可视化。\n",
    "\n",
    "例如，假设LSTM模型预测的销售量为prediction = [100]，我们使用np.repeat(prediction, 5, axis=-1)，将其重复5次，得到prediction_copies_array = [100, 100, 100, 100, 100]，然后将prediction_copies_array与过去5天的销售量进行对应。这样，我们就可以将预测值与输入数据形状一致，方便后续的处理和分析。"
   ]
  },
  {
   "cell_type": "code",
   "execution_count": 14,
   "id": "86535534",
   "metadata": {},
   "outputs": [],
   "source": [
    "prediction_copies_array = np.repeat(prediction,30, axis=-1) "
   ]
  },
  {
   "cell_type": "code",
   "execution_count": 15,
   "id": "c86eba88",
   "metadata": {},
   "outputs": [
    {
     "data": {
      "text/plain": [
       "(1011, 30)"
      ]
     },
     "execution_count": 15,
     "metadata": {},
     "output_type": "execute_result"
    }
   ],
   "source": [
    "prediction_copies_array.shape"
   ]
  },
  {
   "cell_type": "markdown",
   "id": "a75c0508",
   "metadata": {},
   "source": [
    "scaler.inverse_transform: 这是MinMaxScaler对象的逆转换方法，用于将归一化后的数据还原回原始数据范围。"
   ]
  },
  {
   "cell_type": "code",
   "execution_count": 16,
   "id": "6ca1172e",
   "metadata": {},
   "outputs": [],
   "source": [
    "pred=scaler.inverse_transform(np.reshape(prediction_copies_array,(len(prediction),30)))[:,0]"
   ]
  },
  {
   "cell_type": "code",
   "execution_count": 17,
   "id": "2c8c1cd7",
   "metadata": {},
   "outputs": [],
   "source": [
    "original_copies_array = np.repeat(testY,30, axis=-1)\n",
    "original=scaler.inverse_transform(np.reshape(original_copies_array,(len(testY),30)))[:,0]"
   ]
  },
  {
   "cell_type": "code",
   "execution_count": 18,
   "id": "facc1218",
   "metadata": {},
   "outputs": [
    {
     "name": "stdout",
     "output_type": "stream",
     "text": [
      "Pred Values--  [20.930216 20.934555 20.938894 ... 23.811514 23.812777 23.814034]\n",
      "\n",
      "Original Values--  [20.84429222 20.84897917 20.85366523 ... 24.49422085 24.49615282\n",
      " 24.49808021]\n"
     ]
    }
   ],
   "source": [
    "print(\"Pred Values-- \" ,pred)\n",
    "print(\"\\nOriginal Values-- \" ,original)"
   ]
  },
  {
   "cell_type": "markdown",
   "id": "74579de4",
   "metadata": {},
   "source": [
    "## 做出预测值和真实值随着时间对比的图像"
   ]
  },
  {
   "cell_type": "code",
   "execution_count": 19,
   "id": "bf7b909a",
   "metadata": {},
   "outputs": [
    {
     "data": {
      "image/png": "[encoded data removed]",
      "text/plain": [
       "<Figure size 432x288 with 1 Axes>"
      ]
     },
     "metadata": {
      "needs_background": "light"
     },
     "output_type": "display_data"
    }
   ],
   "source": [
    "plt.plot(original, color = 'red', label = 'Real Stock Price')\n",
    "plt.plot(pred, color = 'blue', label = 'Predicted Stock Price')\n",
    "plt.title('Stock Price Prediction')\n",
    "plt.xlabel('Time')\n",
    "plt.ylabel(' Stock Price')\n",
    "plt.legend()\n",
    "plt.show()"
   ]
  },
  {
   "cell_type": "markdown",
   "id": "bbde1b8d",
   "metadata": {},
   "source": [
    "## RMSE、MAE法检测"
   ]
  },
  {
   "cell_type": "code",
   "execution_count": 20,
   "id": "a70e83c1",
   "metadata": {},
   "outputs": [
    {
     "name": "stdout",
     "output_type": "stream",
     "text": [
      "RMSE: 0.3576392266459654\n",
      "MAE: 0.28333599963734857\n"
     ]
    }
   ],
   "source": [
    "import numpy as np\n",
    "from sklearn.metrics import mean_squared_error, mean_absolute_error\n",
    "\n",
    "# 示例真实值和预测值\n",
    "y_true = original\n",
    "y_pred = pred\n",
    "\n",
    "# 计算均方根误差（RMSE）\n",
    "rmse = np.sqrt(mean_squared_error(y_true, y_pred))\n",
    "print(\"RMSE:\", rmse)\n",
    "\n",
    "# 计算平均绝对误差（MAE）\n",
    "mae = mean_absolute_error(y_true, y_pred)\n",
    "print(\"MAE:\", mae)"
   ]
  },
  {
   "cell_type": "markdown",
   "id": "f906555a",
   "metadata": {},
   "source": [
    "## 进行外推预测"
   ]
  },
  {
   "cell_type": "code",
   "execution_count": 21,
   "id": "b2b73bd2",
   "metadata": {},
   "outputs": [
    {
     "name": "stdout",
     "output_type": "stream",
     "text": [
      "1/1 [==============================] - 0s 13ms/step\n",
      "外推预测的价格： [[1.562658]]\n"
     ]
    }
   ],
   "source": [
    "from keras.models import load_model\n",
    "\n",
    "# 假设模型用过去30天的价格预测未来1天的价格\n",
    "# 这里用示例数据代替\n",
    "history_sales = testX[-1:]  # 过去30天的价格\n",
    "\n",
    "\n",
    "# 使用模型进行外推预测\n",
    "predicted_sales = my_model.predict(history_sales)\n",
    "\n",
    "print(\"外推预测的价格：\", predicted_sales)"
   ]
  },
  {
   "cell_type": "code",
   "execution_count": 22,
   "id": "bada9ecd",
   "metadata": {},
   "outputs": [],
   "source": [
    "prediction_copies_array = np.repeat(predicted_sales,30, axis=-1) "
   ]
  },
  {
   "cell_type": "code",
   "execution_count": 23,
   "id": "48ae943e",
   "metadata": {},
   "outputs": [],
   "source": [
    "pred=scaler.inverse_transform(predicted_sales)"
   ]
  },
  {
   "cell_type": "code",
   "execution_count": 24,
   "id": "306c23fd",
   "metadata": {},
   "outputs": [
    {
     "data": {
      "text/plain": [
       "array([[23.814034]], dtype=float32)"
      ]
     },
     "execution_count": 24,
     "metadata": {},
     "output_type": "execute_result"
    }
   ],
   "source": [
    "pred"
   ]
  },
  {
   "cell_type": "code",
   "execution_count": null,
   "id": "a0345b9a",
   "metadata": {},
   "outputs": [],
   "source": []
  }
 ],
 "metadata": {
  "kernelspec": {
   "display_name": "Python 3",
   "language": "python",
   "name": "python3"
  },
  "language_info": {
   "codemirror_mode": {
    "name": "ipython",
    "version": 3
   },
   "file_extension": ".py",
   "mimetype": "text/x-python",
   "name": "python",
   "nbconvert_exporter": "python",
   "pygments_lexer": "ipython3",
   "version": "3.8.8"
  }
 },
 "nbformat": 4,
 "nbformat_minor": 5
}
