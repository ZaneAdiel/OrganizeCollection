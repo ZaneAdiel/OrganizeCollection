{
 "cells": [
  {
   "cell_type": "code",
   "execution_count": 3,
   "id": "7a5f44b0",
   "metadata": {},
   "outputs": [
    {
     "name": "stdout",
     "output_type": "stream",
     "text": [
      "Requirement already satisfied: PyWavelets in f:\\anaconda\\lib\\site-packages (1.4.1)\n",
      "Requirement already satisfied: numpy>=1.17.3 in f:\\anaconda\\lib\\site-packages (from PyWavelets) (1.21.5)\n"
     ]
    },
    {
     "name": "stderr",
     "output_type": "stream",
     "text": [
      "WARNING: Ignoring invalid distribution -upyter-core (f:\\anaconda\\lib\\site-packages)\n",
      "WARNING: Ignoring invalid distribution -upyter-core (f:\\anaconda\\lib\\site-packages)\n"
     ]
    }
   ],
   "source": [
    "!pip install PyWavelets"
   ]
  },
  {
   "cell_type": "markdown",
   "id": "d9a28f45",
   "metadata": {},
   "source": [
    "## 以下是使用MODWT-WRA进行股票溢价预测的一般步骤：\n",
    "\n",
    "数据准备：首先，收集相关的股票溢价数据和其他可能的影响因素数据，比如股票指数、宏观经济数据等。确保数据具有足够的时间跨度和频率。\n",
    "\n",
    "MODWT分解：使用MODWT方法对股票溢价数据进行多尺度分解。MODWT可以将时间序列分解成低频和高频成分，并揭示时间序列在不同尺度上的变化模式。\n",
    "\n",
    "分析低频成分：通过分析低频成分，可以获取关于长期趋势和周期性的信息，以及可能存在的潜在长期关系。\n",
    "\n",
    "分析高频成分：通过分析高频成分，可以获取关于短期波动和噪音的信息，找出短期价格的异常变动和不规则模式。\n",
    "\n",
    "重构和预测：使用Wavelet-Based Reconstructive Approximation（WRA）方法将分解后的成分重构回原始序列，从而得到预测的股票溢价值。"
   ]
  },
  {
   "cell_type": "markdown",
   "id": "d594db2c",
   "metadata": {},
   "source": [
    "当调用 pywt.swt(prices, wavelet) 对数据进行小波变换时，确保数据的长度为偶数。"
   ]
  },
  {
   "cell_type": "markdown",
   "id": "b34c6da5",
   "metadata": {},
   "source": [
    "## 此处我们针对BCOMTR指数来计算"
   ]
  },
  {
   "cell_type": "markdown",
   "id": "9739b84d",
   "metadata": {},
   "source": [
    "### 先做数据处理，选择一个指数并进行异常值处理"
   ]
  },
  {
   "cell_type": "code",
   "execution_count": 11,
   "id": "98aa151a",
   "metadata": {},
   "outputs": [],
   "source": [
    "import numpy as np\n",
    "import pandas as pd\n",
    "import pywt\n",
    "\n",
    "# 读取股票数据\n",
    "df= pd.read_csv(\"Datasets2.csv\",header=1)  # 将文件路径替换成实际的数据文件路径"
   ]
  },
  {
   "cell_type": "code",
   "execution_count": 12,
   "id": "d653ebb8",
   "metadata": {},
   "outputs": [
    {
     "data": {
      "text/html": [
       "<div>\n",
       "<style scoped>\n",
       "    .dataframe tbody tr th:only-of-type {\n",
       "        vertical-align: middle;\n",
       "    }\n",
       "\n",
       "    .dataframe tbody tr th {\n",
       "        vertical-align: top;\n",
       "    }\n",
       "\n",
       "    .dataframe thead th {\n",
       "        text-align: right;\n",
       "    }\n",
       "</style>\n",
       "<table border=\"1\" class=\"dataframe\">\n",
       "  <thead>\n",
       "    <tr style=\"text-align: right;\">\n",
       "      <th></th>\n",
       "      <th>Dates</th>\n",
       "      <th>PX_LAST</th>\n",
       "      <th>PX_LAST.1</th>\n",
       "      <th>PX_LAST.2</th>\n",
       "      <th>PX_LAST.3</th>\n",
       "      <th>PX_LAST.4</th>\n",
       "      <th>PX_LAST.5</th>\n",
       "      <th>PX_LAST.6</th>\n",
       "      <th>PX_LAST.7</th>\n",
       "      <th>PX_LAST.8</th>\n",
       "      <th>...</th>\n",
       "      <th>PX_LAST.44</th>\n",
       "      <th>PX_LAST.45</th>\n",
       "      <th>PX_LAST.46</th>\n",
       "      <th>PX_LAST.47</th>\n",
       "      <th>PX_LAST.48</th>\n",
       "      <th>PX_LAST.49</th>\n",
       "      <th>PX_LAST.50</th>\n",
       "      <th>PX_LAST.51</th>\n",
       "      <th>PX_LAST.52</th>\n",
       "      <th>PX_LAST.53</th>\n",
       "    </tr>\n",
       "  </thead>\n",
       "  <tbody>\n",
       "    <tr>\n",
       "      <th>0</th>\n",
       "      <td>#NAME?</td>\n",
       "      <td>143.423</td>\n",
       "      <td>#NAME?</td>\n",
       "      <td>#NAME?</td>\n",
       "      <td>#NAME?</td>\n",
       "      <td>#NAME?</td>\n",
       "      <td>#NAME?</td>\n",
       "      <td>#NAME?</td>\n",
       "      <td>#NAME?</td>\n",
       "      <td>#NAME?</td>\n",
       "      <td>...</td>\n",
       "      <td>#NAME?</td>\n",
       "      <td>#NAME?</td>\n",
       "      <td>#NAME?</td>\n",
       "      <td>#NAME?</td>\n",
       "      <td>#NAME?</td>\n",
       "      <td>#NAME?</td>\n",
       "      <td>#NAME?</td>\n",
       "      <td>#NAME?</td>\n",
       "      <td>#NAME?</td>\n",
       "      <td>#NAME?</td>\n",
       "    </tr>\n",
       "    <tr>\n",
       "      <th>1</th>\n",
       "      <td>1996/6/7</td>\n",
       "      <td>145.107</td>\n",
       "      <td>3177.601</td>\n",
       "      <td>662.25</td>\n",
       "      <td>232.4962</td>\n",
       "      <td>393.6207</td>\n",
       "      <td>1589.469</td>\n",
       "      <td>4809.132</td>\n",
       "      <td>NaN</td>\n",
       "      <td>NaN</td>\n",
       "      <td>...</td>\n",
       "      <td>326.03</td>\n",
       "      <td>NaN</td>\n",
       "      <td>239.68</td>\n",
       "      <td>1156.17</td>\n",
       "      <td>498.2</td>\n",
       "      <td>602.71</td>\n",
       "      <td>191.75</td>\n",
       "      <td>489.81</td>\n",
       "      <td>1317.29</td>\n",
       "      <td>673.31</td>\n",
       "    </tr>\n",
       "    <tr>\n",
       "      <th>2</th>\n",
       "      <td>1996/6/10</td>\n",
       "      <td>146.233</td>\n",
       "      <td>3177.601</td>\n",
       "      <td>661.52</td>\n",
       "      <td>232.4962</td>\n",
       "      <td>393.6207</td>\n",
       "      <td>1589.469</td>\n",
       "      <td>4809.132</td>\n",
       "      <td>NaN</td>\n",
       "      <td>NaN</td>\n",
       "      <td>...</td>\n",
       "      <td>325.6</td>\n",
       "      <td>NaN</td>\n",
       "      <td>240.08</td>\n",
       "      <td>1157.52</td>\n",
       "      <td>496.95</td>\n",
       "      <td>602.18</td>\n",
       "      <td>191.73</td>\n",
       "      <td>490.19</td>\n",
       "      <td>1317.29</td>\n",
       "      <td>672.16</td>\n",
       "    </tr>\n",
       "    <tr>\n",
       "      <th>3</th>\n",
       "      <td>1996/6/11</td>\n",
       "      <td>144.812</td>\n",
       "      <td>3177.601</td>\n",
       "      <td>660.99</td>\n",
       "      <td>232.4962</td>\n",
       "      <td>393.6207</td>\n",
       "      <td>1589.469</td>\n",
       "      <td>4809.132</td>\n",
       "      <td>NaN</td>\n",
       "      <td>NaN</td>\n",
       "      <td>...</td>\n",
       "      <td>325.09</td>\n",
       "      <td>NaN</td>\n",
       "      <td>240.4</td>\n",
       "      <td>1160.05</td>\n",
       "      <td>493.74</td>\n",
       "      <td>600.57</td>\n",
       "      <td>191.74</td>\n",
       "      <td>490.86</td>\n",
       "      <td>1317.29</td>\n",
       "      <td>670.97</td>\n",
       "    </tr>\n",
       "    <tr>\n",
       "      <th>4</th>\n",
       "      <td>1996/6/12</td>\n",
       "      <td>144.748</td>\n",
       "      <td>3177.601</td>\n",
       "      <td>660.06</td>\n",
       "      <td>232.4962</td>\n",
       "      <td>393.6207</td>\n",
       "      <td>1589.469</td>\n",
       "      <td>4809.132</td>\n",
       "      <td>NaN</td>\n",
       "      <td>NaN</td>\n",
       "      <td>...</td>\n",
       "      <td>324.1</td>\n",
       "      <td>NaN</td>\n",
       "      <td>241.29</td>\n",
       "      <td>1166.08</td>\n",
       "      <td>494.38</td>\n",
       "      <td>598.42</td>\n",
       "      <td>192.1</td>\n",
       "      <td>493.35</td>\n",
       "      <td>1317.29</td>\n",
       "      <td>669.04</td>\n",
       "    </tr>\n",
       "  </tbody>\n",
       "</table>\n",
       "<p>5 rows × 55 columns</p>\n",
       "</div>"
      ],
      "text/plain": [
       "       Dates  PX_LAST PX_LAST.1 PX_LAST.2 PX_LAST.3 PX_LAST.4 PX_LAST.5  \\\n",
       "0     #NAME?  143.423    #NAME?    #NAME?    #NAME?    #NAME?    #NAME?   \n",
       "1   1996/6/7  145.107  3177.601    662.25  232.4962  393.6207  1589.469   \n",
       "2  1996/6/10  146.233  3177.601    661.52  232.4962  393.6207  1589.469   \n",
       "3  1996/6/11  144.812  3177.601    660.99  232.4962  393.6207  1589.469   \n",
       "4  1996/6/12  144.748  3177.601    660.06  232.4962  393.6207  1589.469   \n",
       "\n",
       "  PX_LAST.6 PX_LAST.7 PX_LAST.8  ... PX_LAST.44 PX_LAST.45 PX_LAST.46  \\\n",
       "0    #NAME?    #NAME?    #NAME?  ...     #NAME?     #NAME?     #NAME?   \n",
       "1  4809.132       NaN       NaN  ...     326.03        NaN     239.68   \n",
       "2  4809.132       NaN       NaN  ...      325.6        NaN     240.08   \n",
       "3  4809.132       NaN       NaN  ...     325.09        NaN      240.4   \n",
       "4  4809.132       NaN       NaN  ...      324.1        NaN     241.29   \n",
       "\n",
       "  PX_LAST.47 PX_LAST.48 PX_LAST.49 PX_LAST.50 PX_LAST.51 PX_LAST.52 PX_LAST.53  \n",
       "0     #NAME?     #NAME?     #NAME?     #NAME?     #NAME?     #NAME?     #NAME?  \n",
       "1    1156.17      498.2     602.71     191.75     489.81    1317.29     673.31  \n",
       "2    1157.52     496.95     602.18     191.73     490.19    1317.29     672.16  \n",
       "3    1160.05     493.74     600.57     191.74     490.86    1317.29     670.97  \n",
       "4    1166.08     494.38     598.42      192.1     493.35    1317.29     669.04  \n",
       "\n",
       "[5 rows x 55 columns]"
      ]
     },
     "execution_count": 12,
     "metadata": {},
     "output_type": "execute_result"
    }
   ],
   "source": [
    "df.head()"
   ]
  },
  {
   "cell_type": "code",
   "execution_count": 14,
   "id": "ca6e3f63",
   "metadata": {},
   "outputs": [
    {
     "data": {
      "text/html": [
       "<div>\n",
       "<style scoped>\n",
       "    .dataframe tbody tr th:only-of-type {\n",
       "        vertical-align: middle;\n",
       "    }\n",
       "\n",
       "    .dataframe tbody tr th {\n",
       "        vertical-align: top;\n",
       "    }\n",
       "\n",
       "    .dataframe thead th {\n",
       "        text-align: right;\n",
       "    }\n",
       "</style>\n",
       "<table border=\"1\" class=\"dataframe\">\n",
       "  <thead>\n",
       "    <tr style=\"text-align: right;\">\n",
       "      <th></th>\n",
       "      <th>Dates</th>\n",
       "      <th>PX_LAST</th>\n",
       "    </tr>\n",
       "  </thead>\n",
       "  <tbody>\n",
       "    <tr>\n",
       "      <th>0</th>\n",
       "      <td>1996/6/7</td>\n",
       "      <td>145.1070</td>\n",
       "    </tr>\n",
       "    <tr>\n",
       "      <th>1</th>\n",
       "      <td>1996/6/10</td>\n",
       "      <td>146.2330</td>\n",
       "    </tr>\n",
       "    <tr>\n",
       "      <th>2</th>\n",
       "      <td>1996/6/11</td>\n",
       "      <td>144.8120</td>\n",
       "    </tr>\n",
       "    <tr>\n",
       "      <th>3</th>\n",
       "      <td>1996/6/12</td>\n",
       "      <td>144.7480</td>\n",
       "    </tr>\n",
       "    <tr>\n",
       "      <th>4</th>\n",
       "      <td>1996/6/13</td>\n",
       "      <td>144.5230</td>\n",
       "    </tr>\n",
       "    <tr>\n",
       "      <th>...</th>\n",
       "      <td>...</td>\n",
       "      <td>...</td>\n",
       "    </tr>\n",
       "    <tr>\n",
       "      <th>7060</th>\n",
       "      <td>2023/6/30</td>\n",
       "      <td>226.7436</td>\n",
       "    </tr>\n",
       "    <tr>\n",
       "      <th>7061</th>\n",
       "      <td>2023/7/3</td>\n",
       "      <td>226.3374</td>\n",
       "    </tr>\n",
       "    <tr>\n",
       "      <th>7062</th>\n",
       "      <td>2023/7/4</td>\n",
       "      <td>226.3374</td>\n",
       "    </tr>\n",
       "    <tr>\n",
       "      <th>7063</th>\n",
       "      <td>2023/7/5</td>\n",
       "      <td>228.1342</td>\n",
       "    </tr>\n",
       "    <tr>\n",
       "      <th>7064</th>\n",
       "      <td>2023/7/6</td>\n",
       "      <td>226.3818</td>\n",
       "    </tr>\n",
       "  </tbody>\n",
       "</table>\n",
       "<p>7065 rows × 2 columns</p>\n",
       "</div>"
      ],
      "text/plain": [
       "          Dates   PX_LAST\n",
       "0      1996/6/7  145.1070\n",
       "1     1996/6/10  146.2330\n",
       "2     1996/6/11  144.8120\n",
       "3     1996/6/12  144.7480\n",
       "4     1996/6/13  144.5230\n",
       "...         ...       ...\n",
       "7060  2023/6/30  226.7436\n",
       "7061   2023/7/3  226.3374\n",
       "7062   2023/7/4  226.3374\n",
       "7063   2023/7/5  228.1342\n",
       "7064   2023/7/6  226.3818\n",
       "\n",
       "[7065 rows x 2 columns]"
      ]
     },
     "execution_count": 14,
     "metadata": {},
     "output_type": "execute_result"
    }
   ],
   "source": [
    "data=df[['Dates','PX_LAST']]\n",
    "# 删除值为 \"#NAME?\" 的行\n",
    "data = data[data != '#NAME?'].dropna()\n",
    "data = data.reset_index(drop=True)\n",
    "data"
   ]
  },
  {
   "cell_type": "code",
   "execution_count": 22,
   "id": "25573f41",
   "metadata": {},
   "outputs": [
    {
     "data": {
      "image/png": "[encoded data removed]",
      "text/plain": [
       "<Figure size 640x480 with 1 Axes>"
      ]
     },
     "metadata": {},
     "output_type": "display_data"
    }
   ],
   "source": [
    "data.plot()\n",
    "plt.grid()"
   ]
  },
  {
   "cell_type": "markdown",
   "id": "27d0e723",
   "metadata": {},
   "source": [
    "### 计算溢价"
   ]
  },
  {
   "cell_type": "code",
   "execution_count": 3,
   "id": "a53e96ce",
   "metadata": {},
   "outputs": [
    {
     "name": "stdout",
     "output_type": "stream",
     "text": [
      "BCOMTR指数的溢价： 0        6.909857\n",
      "1        6.963476\n",
      "2        6.895810\n",
      "3        6.892762\n",
      "4        6.882048\n",
      "          ...    \n",
      "7059    10.665138\n",
      "7060    10.797314\n",
      "7061    10.777971\n",
      "7062    10.777971\n",
      "7063    10.863533\n",
      "Name: PX_LAST, Length: 7064, dtype: float64\n"
     ]
    }
   ],
   "source": [
    "# 当前BCOMTR指数的水平\n",
    "current_price = data['PX_LAST']\n",
    "\n",
    "# 假设BCOMTR指数的预期收益率为5%\n",
    "expected_return = 0.05\n",
    "\n",
    "# 计算BCOMTR指数的内在价值\n",
    "intrinsic_value = current_price / (1 + expected_return)\n",
    "\n",
    "# 计算溢价\n",
    "premium = current_price - intrinsic_value\n",
    "\n",
    "# 打印溢价\n",
    "print(\"BCOMTR指数的溢价：\", premium)\n"
   ]
  },
  {
   "cell_type": "code",
   "execution_count": 4,
   "id": "151a0496",
   "metadata": {},
   "outputs": [],
   "source": [
    "pr=pd.DataFrame(premium)"
   ]
  },
  {
   "cell_type": "code",
   "execution_count": 5,
   "id": "25664a8f",
   "metadata": {},
   "outputs": [
    {
     "data": {
      "text/html": [
       "<div>\n",
       "<style scoped>\n",
       "    .dataframe tbody tr th:only-of-type {\n",
       "        vertical-align: middle;\n",
       "    }\n",
       "\n",
       "    .dataframe tbody tr th {\n",
       "        vertical-align: top;\n",
       "    }\n",
       "\n",
       "    .dataframe thead th {\n",
       "        text-align: right;\n",
       "    }\n",
       "</style>\n",
       "<table border=\"1\" class=\"dataframe\">\n",
       "  <thead>\n",
       "    <tr style=\"text-align: right;\">\n",
       "      <th></th>\n",
       "      <th>PX_LAST</th>\n",
       "    </tr>\n",
       "  </thead>\n",
       "  <tbody>\n",
       "    <tr>\n",
       "      <th>0</th>\n",
       "      <td>6.909857</td>\n",
       "    </tr>\n",
       "    <tr>\n",
       "      <th>1</th>\n",
       "      <td>6.963476</td>\n",
       "    </tr>\n",
       "    <tr>\n",
       "      <th>2</th>\n",
       "      <td>6.895810</td>\n",
       "    </tr>\n",
       "    <tr>\n",
       "      <th>3</th>\n",
       "      <td>6.892762</td>\n",
       "    </tr>\n",
       "    <tr>\n",
       "      <th>4</th>\n",
       "      <td>6.882048</td>\n",
       "    </tr>\n",
       "    <tr>\n",
       "      <th>...</th>\n",
       "      <td>...</td>\n",
       "    </tr>\n",
       "    <tr>\n",
       "      <th>7059</th>\n",
       "      <td>10.665138</td>\n",
       "    </tr>\n",
       "    <tr>\n",
       "      <th>7060</th>\n",
       "      <td>10.797314</td>\n",
       "    </tr>\n",
       "    <tr>\n",
       "      <th>7061</th>\n",
       "      <td>10.777971</td>\n",
       "    </tr>\n",
       "    <tr>\n",
       "      <th>7062</th>\n",
       "      <td>10.777971</td>\n",
       "    </tr>\n",
       "    <tr>\n",
       "      <th>7063</th>\n",
       "      <td>10.863533</td>\n",
       "    </tr>\n",
       "  </tbody>\n",
       "</table>\n",
       "<p>7064 rows × 1 columns</p>\n",
       "</div>"
      ],
      "text/plain": [
       "        PX_LAST\n",
       "0      6.909857\n",
       "1      6.963476\n",
       "2      6.895810\n",
       "3      6.892762\n",
       "4      6.882048\n",
       "...         ...\n",
       "7059  10.665138\n",
       "7060  10.797314\n",
       "7061  10.777971\n",
       "7062  10.777971\n",
       "7063  10.863533\n",
       "\n",
       "[7064 rows x 1 columns]"
      ]
     },
     "execution_count": 5,
     "metadata": {},
     "output_type": "execute_result"
    }
   ],
   "source": [
    "pr"
   ]
  },
  {
   "cell_type": "markdown",
   "id": "51484aef",
   "metadata": {},
   "source": [
    "# 用MODWT-WRA进行股票溢价预测"
   ]
  },
  {
   "cell_type": "code",
   "execution_count": 6,
   "id": "0ffef6d7",
   "metadata": {},
   "outputs": [
    {
     "name": "stdout",
     "output_type": "stream",
     "text": [
      "预测的未来股票溢价：\n",
      "[10.6651381  10.79731429 10.77797143 10.77797143 10.86353333]\n"
     ]
    }
   ],
   "source": [
    "#prices = np.array(data['PX_LAST'].values)\n",
    "# prices = data['PX_LAST'].values\n",
    "prices = pr['PX_LAST'].values\n",
    "\n",
    "# 进行多层小波分解\n",
    "wavelet = pywt.Wavelet(\"db4\")  # 使用Daubechies 4阶小波\n",
    "level = 2  # 定义多层分解的层数\n",
    "\n",
    "coeffs = pywt.wavedec(prices, wavelet, level=level)\n",
    "\n",
    "# 预测近似系数和细节系数\n",
    "pred_steps = 5  # 设置预测的时间步长\n",
    "\n",
    "pred_coeffs = []\n",
    "for coeff in coeffs:\n",
    "    padded_coeff = np.pad(coeff, (0, pred_steps), mode='constant')\n",
    "    pred_coeff = padded_coeff[:len(coeff)]\n",
    "    pred_coeffs.append(pred_coeff)\n",
    "\n",
    "# 使用小波重构预测的未来股票溢价\n",
    "pred_prices = pywt.waverec(pred_coeffs, wavelet)\n",
    "\n",
    "# 打印预测的未来股票溢价\n",
    "print(\"预测的未来股票溢价：\")\n",
    "print(pred_prices[-pred_steps:])"
   ]
  },
  {
   "cell_type": "code",
   "execution_count": 7,
   "id": "ee671adc",
   "metadata": {},
   "outputs": [],
   "source": [
    "dd=[7064,7065,7066,7067,7068]\n",
    "prediction=[10.6651381 ,10.79731429,10.77797143, 10.77797143, 10.86353333]"
   ]
  },
  {
   "cell_type": "code",
   "execution_count": 24,
   "id": "38e50eff",
   "metadata": {},
   "outputs": [
    {
     "data": {
      "image/png": "[encoded data removed]",
      "text/plain": [
       "<Figure size 640x480 with 1 Axes>"
      ]
     },
     "metadata": {},
     "output_type": "display_data"
    }
   ],
   "source": [
    "import matplotlib.pyplot as plt\n",
    "\n",
    "# 绘制历史数据\n",
    "plt.plot(pr, color='b', label='history',linewidth=0.8)\n",
    "\n",
    "# 绘制预测数据\n",
    "plt.plot(dd, prediction, color='red', label='prediction',linewidth=2)\n",
    "\n",
    "# 添加图例\n",
    "plt.legend()\n",
    "plt.grid()\n",
    "# 添加标题和轴标签\n",
    "plt.xlabel('date')\n",
    "plt.ylabel('value')\n",
    "\n",
    "# 显示图形\n",
    "plt.show()\n"
   ]
  },
  {
   "cell_type": "code",
   "execution_count": null,
   "id": "27852f41",
   "metadata": {},
   "outputs": [],
   "source": []
  }
 ],
 "metadata": {
  "kernelspec": {
   "display_name": "Python 3",
   "language": "python",
   "name": "python3"
  },
  "language_info": {
   "codemirror_mode": {
    "name": "ipython",
    "version": 3
   },
   "file_extension": ".py",
   "mimetype": "text/x-python",
   "name": "python",
   "nbconvert_exporter": "python",
   "pygments_lexer": "ipython3",
   "version": "3.8.5"
  }
 },
 "nbformat": 4,
 "nbformat_minor": 5
}
