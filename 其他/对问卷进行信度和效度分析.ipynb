{
 "cells": [
  {
   "cell_type": "code",
   "execution_count": 36,
   "id": "2e95c9f5",
   "metadata": {},
   "outputs": [],
   "source": [
    "import pandas as pd\n",
    "\n",
    "# 从CSV文件中加载数据\n",
    "data = pd.read_csv('数据.csv')"
   ]
  },
  {
   "cell_type": "code",
   "execution_count": 7,
   "id": "900d1e15",
   "metadata": {},
   "outputs": [
    {
     "data": {
      "text/plain": [
       "Index(['问题1', '问题2', '问题3', '问题4', '问题5', '问题6', '问题7', '问题8', '问题9', '问题10',\n",
       "       '问题11', '问题12', '问题13', '问题14', '问题15', '问题16', '问题17', '问题18', '问题19',\n",
       "       '问题20', '问题21', '问题22', '问题23', '问题24', '问题25', '问题26', '问题27', '问题28',\n",
       "       '问题29', '问题30', '问题31'],\n",
       "      dtype='object')"
      ]
     },
     "execution_count": 7,
     "metadata": {},
     "output_type": "execute_result"
    }
   ],
   "source": [
    "#处理数据\n",
    "\n",
    "feature_names = data.columns\n",
    "feature_names = feature_names[:-1]\n",
    "feature_names"
   ]
  },
  {
   "cell_type": "code",
   "execution_count": 12,
   "id": "a7c9237b",
   "metadata": {},
   "outputs": [
    {
     "name": "stdout",
     "output_type": "stream",
     "text": [
      "Cronbach Alpha: (0.8823638930987753, array([0.861, 0.902]))\n"
     ]
    }
   ],
   "source": [
    "#信度分析： 信度分析通常包括以下几种方法：\n",
    "\n",
    "#Cronbach's Alpha： 用于测量问卷内部一致性的常见方法。可以使用pingouin库进行计算。\n",
    "\n",
    "import pingouin as pg\n",
    "\n",
    "# 计算Cronbach's Alpha\n",
    "alpha = pg.cronbach_alpha(data[feature_names])\n",
    "print('Cronbach Alpha:', alpha)"
   ]
  },
  {
   "cell_type": "markdown",
   "id": "65a96338",
   "metadata": {},
   "source": [
    "计算的Cronbach's Alpha为0.8823638930987753，同时还提供了置信区间为0.861到0.902。Cronbach's Alpha是一种用于测量问卷内部一致性的统计指标，其值通常介于0和1之间，值越高表示问卷的内部一致性越强。  \n",
    "在这种情况下，Cronbach's Alpha的值接近0.88，这表明问卷的内部一致性相对较高。置信区间提供了对Cronbach's Alpha估计的不确定性的一种度量，它告诉我们在统计意义上，Cronbach's Alpha可能在0.861到0.902之间。"
   ]
  },
  {
   "cell_type": "markdown",
   "id": "3c5f60f4",
   "metadata": {},
   "source": [
    "进行KMO（Kaiser-Meyer-Olkin）检验，你可以使用Python中的factor_analyzer库。这个库提供了一个方便的接口来执行因子分析以及一些相关的统计检验，包括KMO检验和Bartlett的球形度检验。"
   ]
  },
  {
   "cell_type": "code",
   "execution_count": 18,
   "id": "4f8dd972",
   "metadata": {},
   "outputs": [],
   "source": [
    "import pandas as pd\n",
    "from factor_analyzer.factor_analyzer import calculate_kmo, calculate_bartlett_sphericity"
   ]
  },
  {
   "cell_type": "code",
   "execution_count": 46,
   "id": "a0cb7f36",
   "metadata": {},
   "outputs": [],
   "source": [
    "df = data.drop('score', axis=1)"
   ]
  },
  {
   "cell_type": "code",
   "execution_count": 47,
   "id": "6677864a",
   "metadata": {},
   "outputs": [
    {
     "name": "stdout",
     "output_type": "stream",
     "text": [
      "KMO值: 0.9645421979824679\n"
     ]
    }
   ],
   "source": [
    "# 计算KMO值\n",
    "kmo_per_variable, kmo_total = calculate_kmo(df)\n",
    "print(\"KMO值:\", kmo_total)"
   ]
  },
  {
   "cell_type": "code",
   "execution_count": 48,
   "id": "9f7cc43c",
   "metadata": {},
   "outputs": [
    {
     "name": "stdout",
     "output_type": "stream",
     "text": [
      "Bartlett球形度检验:\n",
      "近似卡方: 4801.552295767867\n",
      "df: 496\n",
      "P: 0.0\n"
     ]
    }
   ],
   "source": [
    "# 进行Bartlett的球形度检验\n",
    "chi_square_value, p_value = calculate_bartlett_sphericity(df)\n",
    "print(\"Bartlett球形度检验:\")\n",
    "print(\"近似卡方:\", chi_square_value)\n",
    "print(\"df:\", data.shape[1] * (data.shape[1] - 1) // 2)  # 计算自由度\n",
    "print(\"P:\", p_value)"
   ]
  },
  {
   "cell_type": "code",
   "execution_count": null,
   "id": "710f6c3b",
   "metadata": {},
   "outputs": [],
   "source": []
  }
 ],
 "metadata": {
  "kernelspec": {
   "display_name": "Python 3",
   "language": "python",
   "name": "python3"
  },
  "language_info": {
   "codemirror_mode": {
    "name": "ipython",
    "version": 3
   },
   "file_extension": ".py",
   "mimetype": "text/x-python",
   "name": "python",
   "nbconvert_exporter": "python",
   "pygments_lexer": "ipython3",
   "version": "3.8.8"
  }
 },
 "nbformat": 4,
 "nbformat_minor": 5
}
